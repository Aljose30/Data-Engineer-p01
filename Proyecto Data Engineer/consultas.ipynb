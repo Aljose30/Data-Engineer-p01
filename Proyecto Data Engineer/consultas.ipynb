{
 "cells": [
  {
   "cell_type": "code",
   "execution_count": 3,
   "metadata": {},
   "outputs": [],
   "source": [
    "import pandas as pd"
   ]
  },
  {
   "cell_type": "code",
   "execution_count": 29,
   "metadata": {},
   "outputs": [],
   "source": [
    "\n",
    "#Abriendo los archivos CSV\n",
    "\n",
    "amazon = pd.read_csv('Data_mdif/amazon_prime_modificado.csv')\n",
    "disney = pd.read_csv('Data_mdif/disney_Plus_modificado.csv')\n",
    "hulu = pd.read_csv('Data_mdif/hulu_modificado.csv')\n",
    "netflix = pd.read_csv('Data_mdif/netflix_modificado.csv')\n"
   ]
  },
  {
   "cell_type": "code",
   "execution_count": 75,
   "metadata": {},
   "outputs": [
    {
     "data": {
      "text/html": [
       "<div>\n",
       "<style scoped>\n",
       "    .dataframe tbody tr th:only-of-type {\n",
       "        vertical-align: middle;\n",
       "    }\n",
       "\n",
       "    .dataframe tbody tr th {\n",
       "        vertical-align: top;\n",
       "    }\n",
       "\n",
       "    .dataframe thead th {\n",
       "        text-align: right;\n",
       "    }\n",
       "</style>\n",
       "<table border=\"1\" class=\"dataframe\">\n",
       "  <thead>\n",
       "    <tr style=\"text-align: right;\">\n",
       "      <th></th>\n",
       "      <th>platform</th>\n",
       "      <th>count</th>\n",
       "    </tr>\n",
       "  </thead>\n",
       "  <tbody>\n",
       "    <tr>\n",
       "      <th>0</th>\n",
       "      <td>netflix</td>\n",
       "      <td>196</td>\n",
       "    </tr>\n",
       "  </tbody>\n",
       "</table>\n",
       "</div>"
      ],
      "text/plain": [
       "  platform  count\n",
       "0  netflix    196"
      ]
     },
     "execution_count": 75,
     "metadata": {},
     "output_type": "execute_result"
    }
   ],
   "source": [
    "#consulta 1 Cantidad de veces que aparece una palabra clave en el título de peliculas/series, por plataforma\n",
    "\n",
    "\n",
    "def count_titles_by_platform(keyword, df):\n",
    "    count = df[df[\"title\"].str.contains(keyword)].groupby(\"platform\").size().reset_index(name=\"count\")\n",
    "    return count\n",
    "\n",
    "amazon_count = count_titles_by_platform(keyword, amazon)\n",
    "disney_count = count_titles_by_platform(keyword, disney)\n",
    "hulu_count = count_titles_by_platform(keyword, hulu)\n",
    "netflix_count = count_titles_by_platform(keyword, netflix)\n",
    "\n",
    "count_titles_by_platform('love', netflix)\n",
    "\n"
   ]
  },
  {
   "cell_type": "code",
   "execution_count": 57,
   "metadata": {},
   "outputs": [],
   "source": [
    "#consulta 2 Cantidad de películas por plataforma con un puntaje mayor a XX en determinado año\n",
    "\n",
    "def get_score_count(platform, score, release_year):\n",
    "    \n",
    "    if platform == 'amazon':\n",
    "        df = amazon\n",
    "    elif platform == 'disney':\n",
    "        df = disney\n",
    "    elif platform == 'hulu':\n",
    "        df = hulu\n",
    "    elif platform == 'netflix':\n",
    "        df = netflix\n",
    "    else:\n",
    "        return 'Invalid platform'\n",
    "    \n",
    "    count = df[(df['score'] > score) & (df['release_year'] == release_year)].shape[0]\n",
    "    return f'platform: {platform},  cantidad: {count}'\n",
    "\n"
   ]
  },
  {
   "cell_type": "code",
   "execution_count": 12,
   "metadata": {},
   "outputs": [
    {
     "data": {
      "text/plain": [
       "{'title': '15-minute cardio core 8.0 workout (with weights)', ',score': 100}"
      ]
     },
     "execution_count": 12,
     "metadata": {},
     "output_type": "execute_result"
    }
   ],
   "source": [
    "#consulta 3 La segunda película con mayor partitura para una plataforma determinada, según el orden alfabético de los títulos.\n",
    "\n",
    "def get_second_highest_score(platform):\n",
    "    \n",
    "    if platform == 'amazon':\n",
    "        df = amazon\n",
    "    elif platform == 'disney':\n",
    "        df = disney\n",
    "    elif platform == 'hulu':\n",
    "        df = hulu\n",
    "    elif platform == 'netflix':\n",
    "        df = netflix\n",
    "    else:\n",
    "        return 'Invalid platform'\n",
    "    df = df.sort_values(by=['score','title'],ascending=[False,True])\n",
    "    title = df.iloc[1]['title']\n",
    "    score = df.iloc[1]['score']\n",
    "    return {'title': title, ',score': score}\n",
    "\n",
    "get_second_highest_score(\"amazon\")"
   ]
  },
  {
   "cell_type": "code",
   "execution_count": 8,
   "metadata": {},
   "outputs": [
    {
     "name": "stdout",
     "output_type": "stream",
     "text": [
      "sairat 173 min\n"
     ]
    }
   ],
   "source": [
    "#Consulta 4 Película que más apareció según año, plataforma y tipo de duración\n",
    "\n",
    "def get_most_repeated_movie(platform, duration_type, release_year):\n",
    "    # Concatenar los DataFrames ya abiertos\n",
    "    df = pd.concat([amazon, disney, hulu, netflix], ignore_index=True)\n",
    "    # filtrar los datos segun la plataforma\n",
    "    df = df[df['platform'] == platform]\n",
    "    # filtrar los datos segun el tipo de duracion\n",
    "    df = df[df['duration_type'] == duration_type]\n",
    "    # filtrar los datos segun el año de lanzamiento\n",
    "    df = df[df['release_year'] == release_year]\n",
    "    # Obtener la pelicula con la duracion maxima\n",
    "    movie_duration = df.loc[df.duration_int.idxmax()]\n",
    "    # Imprimir el resultado\n",
    "    print(movie_duration[\"title\"],int((movie_duration['duration_int'])), (movie_duration['duration_type']))\n",
    "\n",
    "get_most_repeated_movie('netflix','min',2016)"
   ]
  },
  {
   "cell_type": "code",
   "execution_count": 9,
   "metadata": {},
   "outputs": [
    {
     "name": "stdout",
     "output_type": "stream",
     "text": [
      "18+: 1243\n"
     ]
    }
   ],
   "source": [
    "#consulta 5 Cantidad de series y películas por rating\n",
    "\n",
    "def get_rating_count(rating):\n",
    "    # Inicializar contadores para cada archivo\n",
    "    amazon_count = 0\n",
    "    disney_count = 0\n",
    "    hulu_count = 0\n",
    "    netflix_count = 0\n",
    "\n",
    "    # Contar filas con rating especificado en cada archivo\n",
    "    amazon_count = len(amazon[amazon['rating'] == rating])\n",
    "    disney_count = len(disney[disney['rating'] == rating])\n",
    "    hulu_count = len(hulu[hulu['rating'] == rating])\n",
    "    netflix_count = len(netflix[netflix['rating'] == rating])\n",
    "\n",
    "    # Imprimir resultados\n",
    "    \n",
    "    total= amazon_count + disney_count + hulu_count + netflix_count\n",
    "    print(f\"{rating}: {total}\")\n",
    "  \n",
    "\n",
    "get_rating_count('18+')"
   ]
  }
 ],
 "metadata": {
  "kernelspec": {
   "display_name": "Python 3",
   "language": "python",
   "name": "python3"
  },
  "language_info": {
   "codemirror_mode": {
    "name": "ipython",
    "version": 3
   },
   "file_extension": ".py",
   "mimetype": "text/x-python",
   "name": "python",
   "nbconvert_exporter": "python",
   "pygments_lexer": "ipython3",
   "version": "3.10.9"
  },
  "orig_nbformat": 4,
  "vscode": {
   "interpreter": {
    "hash": "cc2a200e1e6dab10c4dc3986f0e7a998296447c993c26561a1bd050a849d8214"
   }
  }
 },
 "nbformat": 4,
 "nbformat_minor": 2
}
